{
 "cells": [
  {
   "cell_type": "raw",
   "id": "8a3a0d18-7a7c-4ed9-8f53-51fe32ad7a76",
   "metadata": {
    "tags": []
   },
   "source": [
    "---\n",
    "draft: true\n",
    "title: \"Serverless model deployment\"\n",
    "subtitle: \"AWS Lambda and API gateway\"\n",
    "author: \"Pedro Tabacof\"\n",
    "date: \"2023-05-07\"\n",
    "categories: []\n",
    "format: html\n",
    "toc: true\n",
    "description-meta: \"Serverless model deployment with AWS Lambda and API gateway\"\n",
    "pagetitle: \"Serverless model deployment\"\n",
    "author-meta: \"Pedro Tabacof\"\n",
    "date-meta: \"2023-05-07\"\n",
    "keywords: \"model deployment, AWS, Lambda, API gateway, MLOps\"\n",
    "---"
   ]
  },
  {
   "cell_type": "code",
   "execution_count": 2,
   "id": "ce3d0bd4-698b-4f37-bd7c-cd5ffa80ebd3",
   "metadata": {
    "tags": []
   },
   "outputs": [],
   "source": [
    "import pandas as pd\n",
    "import numpy as np\n",
    "import boto3\n",
    "import json\n",
    "\n",
    "from sklearn.ensemble import RandomForestClassifier\n",
    "from sklearn.datasets import fetch_20newsgroups\n",
    "from sklearn.linear_model import LogisticRegression\n",
    "from sklearn.model_selection import cross_val_score, StratifiedKFold\n",
    "from sklearn.feature_extraction.text import TfidfVectorizer\n",
    "from sklearn import preprocessing\n",
    "from sklearn.pipeline import Pipeline\n",
    "from sklearn.base import BaseEstimator, TransformerMixin"
   ]
  },
  {
   "cell_type": "markdown",
   "id": "20b1d7e4-a59f-48ed-8347-823add691f63",
   "metadata": {},
   "source": [
    "# Use cases\n",
    "\n",
    "Potential ideas:\n",
    "\n",
    " * You want to create a side project and leave it out there without paying server costs\n",
    " * You are an indie hacker and want to sell something, maybe an API, you want scalability but no baseline costs\n",
    " * You are a DS and need to deploy a model internally and creating a Python server is not allowed\n",
    " * You are a MLE and want to create a system where DSs just uploads a pickle file and you have an endpoint ready\n",
    "\n",
    "\n",
    "When not to use it:\n",
    "\n",
    " * When creating Flask / FastAPI applications is allowed, within budget\n",
    " * When there is infrastructure to scale webservers (e.g. Kubernetes)"
   ]
  },
  {
   "cell_type": "code",
   "execution_count": 3,
   "id": "3f52028b-cdf4-490a-a976-671767dd4901",
   "metadata": {
    "tags": []
   },
   "outputs": [],
   "source": [
    "dataset = fetch_20newsgroups()"
   ]
  },
  {
   "cell_type": "code",
   "execution_count": 18,
   "id": "d22a8027-44ff-464a-a7db-8d216384ff42",
   "metadata": {
    "tags": []
   },
   "outputs": [
    {
     "name": "stdout",
     "output_type": "stream",
     "text": [
      ".. _20newsgroups_dataset:\n",
      "\n",
      "The 20 newsgroups text dataset\n",
      "------------------------------\n",
      "\n",
      "The 20 newsgroups dataset comprises around 18000 newsgroups posts on\n",
      "20 topics split in two subsets: one for training (or development)\n",
      "and the other one for testing (or for performance evaluation). The split\n",
      "between the train and test set is based upon a messages posted before\n",
      "and after a specific date.\n",
      "\n",
      "This module contains two loaders. The first one,\n",
      ":func:`sklearn.datasets.fetch_20newsgroups`,\n",
      "returns a list of the raw texts that can be fed to text feature\n",
      "extractors such as :class:`~sklearn.feature_extraction.text.CountVectorizer`\n",
      "with custom parameters so as to extract feature vectors.\n",
      "The second one, :func:`sklearn.datasets.fetch_20newsgroups_vectorized`,\n",
      "returns ready-to-use features, i.e., it is not necessary to use a feature\n",
      "extractor.\n",
      "\n",
      "**Data Set Characteristics:**\n",
      "\n",
      "    =================   ==========\n",
      "    Classes                     20\n",
      "    Samples total            18846\n",
      "    Dimensionality               1\n",
      "    Features                  text\n",
      "    =================   ==========\n"
     ]
    }
   ],
   "source": [
    "print(dataset.DESCR[:1086])"
   ]
  },
  {
   "cell_type": "code",
   "execution_count": 47,
   "id": "1d9c8e0e-a4fd-4744-bcb9-7276faf49869",
   "metadata": {
    "tags": []
   },
   "outputs": [],
   "source": [
    "X = dataset.data\n",
    "y = np.array([dataset.target_names[i] for i in dataset.target])"
   ]
  },
  {
   "cell_type": "code",
   "execution_count": 74,
   "id": "03aa7aff-ccad-4003-839b-782d0a207310",
   "metadata": {
    "tags": []
   },
   "outputs": [],
   "source": [
    "class InverseLabelEncoder(TransformerMixin, BaseEstimator):\n",
    "    def __init__(self, le):\n",
    "        super().__init__()\n",
    "        self.le = le\n",
    "                 \n",
    "    def fit(self, _, y):\n",
    "        return y\n",
    "                 \n",
    "    def predict(self, _, y):\n",
    "        return self.le.inverse_transform(y)"
   ]
  },
  {
   "cell_type": "code",
   "execution_count": 75,
   "id": "fdeed2f1-6657-44ba-8a3a-89951c2943f9",
   "metadata": {
    "tags": []
   },
   "outputs": [],
   "source": [
    "tfidf = TfidfVectorizer(stop_words='english', lowercase=True, max_features=1000)\n",
    "lr = LogisticRegression(C=5e1, solver='lbfgs', multi_class='multinomial', random_state=42, n_jobs=4)\n",
    "le = preprocessing.LabelEncoder()\n",
    "le.fit(y)\n",
    "\n",
    "inv_le = InverseLabelEncoder(le)"
   ]
  },
  {
   "cell_type": "code",
   "execution_count": 80,
   "id": "36da3a5f-7403-4db1-b23b-c7a723f2cdd3",
   "metadata": {
    "tags": []
   },
   "outputs": [],
   "source": [
    "pipe = Pipeline([('tfidf', tfidf), ('lr', lr)])"
   ]
  },
  {
   "cell_type": "code",
   "execution_count": 81,
   "id": "434e97db-84fd-4759-944e-6b14cf7d0b2c",
   "metadata": {
    "tags": []
   },
   "outputs": [
    {
     "name": "stderr",
     "output_type": "stream",
     "text": [
      "/Users/pedrotabacof/anaconda3/lib/python3.10/site-packages/sklearn/linear_model/_logistic.py:458: ConvergenceWarning: lbfgs failed to converge (status=1):\n",
      "STOP: TOTAL NO. of ITERATIONS REACHED LIMIT.\n",
      "\n",
      "Increase the number of iterations (max_iter) or scale the data as shown in:\n",
      "    https://scikit-learn.org/stable/modules/preprocessing.html\n",
      "Please also refer to the documentation for alternative solver options:\n",
      "    https://scikit-learn.org/stable/modules/linear_model.html#logistic-regression\n",
      "  n_iter_i = _check_optimize_result(\n"
     ]
    }
   ],
   "source": [
    "model = pipe.fit(X, le.fit_transform(y))"
   ]
  },
  {
   "cell_type": "code",
   "execution_count": 83,
   "id": "6a12c2c6-4a16-4a63-bf59-436c7046e1e5",
   "metadata": {
    "tags": []
   },
   "outputs": [],
   "source": [
    "def predict(X, pipe, le):\n",
    "    return le.inverse_transform(pipe.predict(X))"
   ]
  },
  {
   "cell_type": "code",
   "execution_count": 84,
   "id": "92fe261c-c24f-4fe1-8be5-54e050853a46",
   "metadata": {
    "tags": []
   },
   "outputs": [
    {
     "data": {
      "text/plain": [
       "array(['rec.autos', 'comp.sys.mac.hardware', 'comp.sys.mac.hardware', ...,\n",
       "       'comp.sys.ibm.pc.hardware', 'comp.graphics', 'rec.motorcycles'],\n",
       "      dtype='<U24')"
      ]
     },
     "execution_count": 84,
     "metadata": {},
     "output_type": "execute_result"
    }
   ],
   "source": [
    "predict(X, pipe, le)"
   ]
  },
  {
   "cell_type": "code",
   "execution_count": 88,
   "id": "f29c7258-d111-4de1-a3f8-f5cb547367fa",
   "metadata": {
    "tags": []
   },
   "outputs": [
    {
     "ename": "NameError",
     "evalue": "name 'eli5' is not defined",
     "output_type": "error",
     "traceback": [
      "\u001b[0;31m---------------------------------------------------------------------------\u001b[0m",
      "\u001b[0;31mNameError\u001b[0m                                 Traceback (most recent call last)",
      "Cell \u001b[0;32mIn[88], line 1\u001b[0m\n\u001b[0;32m----> 1\u001b[0m \u001b[43meli5\u001b[49m\u001b[38;5;241m.\u001b[39mshow_weights(lr)\n",
      "\u001b[0;31mNameError\u001b[0m: name 'eli5' is not defined"
     ]
    }
   ],
   "source": [
    "eli5.show_weights(lr)"
   ]
  },
  {
   "cell_type": "markdown",
   "id": "97512f93-1c59-46c0-9e42-7a36d6a509e5",
   "metadata": {},
   "source": [
    "# Creating IAM role\n",
    "\n",
    "First, make sure if you have AWS credentials in place. For example, you can install the `aws` command line and run aws configure."
   ]
  },
  {
   "cell_type": "code",
   "execution_count": 2,
   "id": "2e0a3c37-d3cd-4478-b540-e6608764305e",
   "metadata": {
    "tags": []
   },
   "outputs": [],
   "source": [
    "iam_client = boto3.client('iam')"
   ]
  },
  {
   "cell_type": "code",
   "execution_count": 3,
   "id": "cc9681ed-2bdc-4dd2-b053-ab82f828175e",
   "metadata": {
    "tags": []
   },
   "outputs": [],
   "source": [
    "# Specify the role name and trust policy for the Lambda service\n",
    "role_name = 'lambda-execution-role'\n",
    "trust_policy = {\n",
    "    'Version': '2012-10-17',\n",
    "    'Statement': [\n",
    "        {\n",
    "            'Effect': 'Allow',\n",
    "            'Principal': {'Service': 'lambda.amazonaws.com'},\n",
    "            'Action': 'sts:AssumeRole'\n",
    "        }\n",
    "    ]\n",
    "}"
   ]
  },
  {
   "cell_type": "code",
   "execution_count": 4,
   "id": "28720f0a-5d44-4245-a230-42318edf4e3c",
   "metadata": {
    "tags": []
   },
   "outputs": [],
   "source": [
    "# Create the role\n",
    "response = iam_client.create_role(\n",
    "    RoleName=role_name,\n",
    "    AssumeRolePolicyDocument=json.dumps(trust_policy),\n",
    "    Description='Execution role for Lambda function',\n",
    ")"
   ]
  },
  {
   "cell_type": "code",
   "execution_count": 5,
   "id": "4cce3fc8-f6d5-4b83-9925-e82cc90b3d47",
   "metadata": {
    "tags": []
   },
   "outputs": [
    {
     "data": {
      "text/plain": [
       "{'Role': {'Path': '/',\n",
       "  'RoleName': 'lambda-execution-role',\n",
       "  'RoleId': 'AROAU6CNRNLCNUSYPFME5',\n",
       "  'Arn': 'arn:aws:iam::339465038532:role/lambda-execution-role',\n",
       "  'CreateDate': datetime.datetime(2023, 5, 1, 13, 38, 57, tzinfo=tzutc()),\n",
       "  'AssumeRolePolicyDocument': {'Version': '2012-10-17',\n",
       "   'Statement': [{'Effect': 'Allow',\n",
       "     'Principal': {'Service': 'lambda.amazonaws.com'},\n",
       "     'Action': 'sts:AssumeRole'}]}},\n",
       " 'ResponseMetadata': {'RequestId': 'b6180fb8-a694-4c6f-9578-1cebd7458a29',\n",
       "  'HTTPStatusCode': 200,\n",
       "  'HTTPHeaders': {'x-amzn-requestid': 'b6180fb8-a694-4c6f-9578-1cebd7458a29',\n",
       "   'content-type': 'text/xml',\n",
       "   'content-length': '796',\n",
       "   'date': 'Mon, 01 May 2023 13:38:56 GMT'},\n",
       "  'RetryAttempts': 0}}"
      ]
     },
     "execution_count": 5,
     "metadata": {},
     "output_type": "execute_result"
    }
   ],
   "source": [
    "response"
   ]
  },
  {
   "cell_type": "code",
   "execution_count": 6,
   "id": "acabcfae-1219-459d-8bab-e82ba6f3f316",
   "metadata": {
    "tags": []
   },
   "outputs": [
    {
     "name": "stdout",
     "output_type": "stream",
     "text": [
      "Role created: arn:aws:iam::339465038532:role/lambda-execution-role\n"
     ]
    }
   ],
   "source": [
    "# Get the role ARN\n",
    "role_arn = response['Role']['Arn']\n",
    "\n",
    "# Attach the AWSLambdaBasicExecutionRole policy\n",
    "policy_arn = 'arn:aws:iam::aws:policy/service-role/AWSLambdaBasicExecutionRole'\n",
    "iam_client.attach_role_policy(\n",
    "    RoleName=role_name,\n",
    "    PolicyArn=policy_arn\n",
    ")\n",
    "\n",
    "print(f'Role created: {role_arn}')"
   ]
  },
  {
   "cell_type": "code",
   "execution_count": null,
   "id": "16e1f0af-c3e5-4418-90d6-a05c5311524f",
   "metadata": {},
   "outputs": [],
   "source": []
  },
  {
   "cell_type": "markdown",
   "id": "3a3f248a-2a2e-427a-a6cc-6034b19f8cd8",
   "metadata": {},
   "source": [
    "# Setting up Lambda function"
   ]
  },
  {
   "cell_type": "code",
   "execution_count": 7,
   "id": "3e44dd64-3613-4c1f-aea8-c0771f2d0eda",
   "metadata": {
    "tags": []
   },
   "outputs": [],
   "source": [
    "lambda_client = boto3.client('lambda')"
   ]
  },
  {
   "cell_type": "code",
   "execution_count": null,
   "id": "e655faab-d44d-4d2f-964f-98c6c9084d70",
   "metadata": {},
   "outputs": [],
   "source": []
  },
  {
   "cell_type": "code",
   "execution_count": 8,
   "id": "b9b92307-991a-4c54-b0fb-f7930bc6cb36",
   "metadata": {
    "tags": []
   },
   "outputs": [],
   "source": [
    "lambda_file = \"my_lambda_function.py\"\n",
    "\n",
    "with open(lambda_file, \"w\") as f:\n",
    "    f.write(\"import json\\n\\n\")\n",
    "    f.write(\"def lambda_handler(event, context):\\n\")\n",
    "    f.write(\"    name = event.get('name', 'World')\\n\")\n",
    "    f.write(\"    message = f'Hello, {name}!'\\n\")\n",
    "    f.write(\"    return {\\n\")\n",
    "    f.write(\"        'statusCode': 200,\\n\")\n",
    "    f.write(\"        'body': json.dumps({\\n\")\n",
    "    f.write(\"            'message': message\\n\")\n",
    "    f.write(\"        })\\n\")\n",
    "    f.write(\"    }\\n\")"
   ]
  },
  {
   "cell_type": "code",
   "execution_count": 9,
   "id": "f9b7539f-6b31-4ed4-8e99-70bbb0a94889",
   "metadata": {
    "tags": []
   },
   "outputs": [],
   "source": [
    "import zipfile\n",
    "\n",
    "zip_file = 'my_lambda_function.zip'\n",
    "\n",
    "with zipfile.ZipFile(zip_file, 'w') as z:\n",
    "    z.write(lambda_file)"
   ]
  },
  {
   "cell_type": "code",
   "execution_count": null,
   "id": "1350b29d-2419-4108-bc23-9f2e0a26f63c",
   "metadata": {},
   "outputs": [],
   "source": [
    "# Read the zipped deployment package\n",
    "with open(zip_file, 'rb') as f:\n",
    "    deployment_package = f.read()"
   ]
  },
  {
   "cell_type": "code",
   "execution_count": 11,
   "id": "9715b15a-1fe2-437d-b1c5-6978a5494689",
   "metadata": {
    "tags": []
   },
   "outputs": [],
   "source": [
    "function_name = 'lambda-function-ML-model'\n",
    "\n",
    "# Create the Lambda function\n",
    "response = lambda_client.create_function(\n",
    "    FunctionName=function_name,\n",
    "    Runtime='python3.10',\n",
    "    Role=role_arn,\n",
    "    Handler='my_lambda_function.lambda_handler',\n",
    "    Code={\n",
    "        'ZipFile': deployment_package\n",
    "    },\n",
    "    Description='A simple Lambda function',\n",
    "    Timeout=10,\n",
    "    MemorySize=128,\n",
    "    Publish=True,\n",
    ")\n"
   ]
  },
  {
   "cell_type": "code",
   "execution_count": 12,
   "id": "82fc67c1-2ed8-4909-9412-8d7264a41371",
   "metadata": {
    "tags": []
   },
   "outputs": [
    {
     "name": "stdout",
     "output_type": "stream",
     "text": [
      "{\n",
      "  \"ResponseMetadata\": {\n",
      "    \"RequestId\": \"93fd38f8-1af3-46a1-8c0c-cb20e2fc4239\",\n",
      "    \"HTTPStatusCode\": 201,\n",
      "    \"HTTPHeaders\": {\n",
      "      \"date\": \"Mon, 01 May 2023 13:42:31 GMT\",\n",
      "      \"content-type\": \"application/json\",\n",
      "      \"content-length\": \"1249\",\n",
      "      \"connection\": \"keep-alive\",\n",
      "      \"x-amzn-requestid\": \"93fd38f8-1af3-46a1-8c0c-cb20e2fc4239\"\n",
      "    },\n",
      "    \"RetryAttempts\": 0\n",
      "  },\n",
      "  \"FunctionName\": \"lambda-function-ML-model\",\n",
      "  \"FunctionArn\": \"arn:aws:lambda:eu-west-1:339465038532:function:lambda-function-ML-model\",\n",
      "  \"Runtime\": \"python3.8\",\n",
      "  \"Role\": \"arn:aws:iam::339465038532:role/lambda-execution-role\",\n",
      "  \"Handler\": \"my_lambda_function.lambda_handler\",\n",
      "  \"CodeSize\": 376,\n",
      "  \"Description\": \"A simple Lambda function\",\n",
      "  \"Timeout\": 10,\n",
      "  \"MemorySize\": 128,\n",
      "  \"LastModified\": \"2023-05-01T13:42:31.515+0000\",\n",
      "  \"CodeSha256\": \"HIJBq+/2eWi17MClpN0sP+jXlCuDOT2m8oNhTzD/AZI=\",\n",
      "  \"Version\": \"1\",\n",
      "  \"TracingConfig\": {\n",
      "    \"Mode\": \"PassThrough\"\n",
      "  },\n",
      "  \"RevisionId\": \"628648dc-d31c-405b-a708-f69248ab1f99\",\n",
      "  \"State\": \"Pending\",\n",
      "  \"StateReason\": \"The function is being created.\",\n",
      "  \"StateReasonCode\": \"Creating\",\n",
      "  \"PackageType\": \"Zip\",\n",
      "  \"Architectures\": [\n",
      "    \"x86_64\"\n",
      "  ],\n",
      "  \"EphemeralStorage\": {\n",
      "    \"Size\": 512\n",
      "  },\n",
      "  \"SnapStart\": {\n",
      "    \"ApplyOn\": \"None\",\n",
      "    \"OptimizationStatus\": \"Off\"\n",
      "  },\n",
      "  \"RuntimeVersionConfig\": {\n",
      "    \"RuntimeVersionArn\": \"arn:aws:lambda:eu-west-1::runtime:48ae60ef4cd46a5f33291797e798b3aaefe09e5000e8f58c605db8540c47dd8d\"\n",
      "  }\n",
      "}\n"
     ]
    }
   ],
   "source": [
    "print(json.dumps(response, indent=2))\n"
   ]
  },
  {
   "cell_type": "code",
   "execution_count": 13,
   "id": "804afbaf-7460-4c24-864b-ec1a24b967a2",
   "metadata": {
    "tags": []
   },
   "outputs": [
    {
     "name": "stdout",
     "output_type": "stream",
     "text": [
      "{'statusCode': 200, 'body': '{\"message\": \"Hello, John!\"}'}\n"
     ]
    }
   ],
   "source": [
    "# Prepare the event to pass to the Lambda function\n",
    "event = {\n",
    "    'name': 'John'\n",
    "}\n",
    "\n",
    "# Invoke the Lambda function\n",
    "response = lambda_client.invoke(\n",
    "    FunctionName=function_name,\n",
    "    InvocationType='RequestResponse',\n",
    "    LogType='Tail',\n",
    "    Payload=json.dumps(event)\n",
    ")\n",
    "\n",
    "# Get the response from the Lambda function\n",
    "result = json.loads(response['Payload'].read())\n",
    "\n",
    "print(result)"
   ]
  },
  {
   "cell_type": "markdown",
   "id": "84fc875f-6751-4995-927c-f2a090ebdf60",
   "metadata": {
    "tags": []
   },
   "source": [
    "# Setting up API gateway"
   ]
  },
  {
   "cell_type": "markdown",
   "id": "ab2e2c40-b387-433f-a9e5-e3c6cedc1cfc",
   "metadata": {},
   "source": [
    "# Testing"
   ]
  },
  {
   "cell_type": "markdown",
   "id": "b4d0132d-0d33-4fe1-878d-85191ecf4dfb",
   "metadata": {
    "tags": []
   },
   "source": [
    "# FastAPI comparison"
   ]
  },
  {
   "cell_type": "code",
   "execution_count": null,
   "id": "40388d4e-cdb8-414b-a5e7-bda1ee65727f",
   "metadata": {},
   "outputs": [],
   "source": []
  }
 ],
 "metadata": {
  "kernelspec": {
   "display_name": "Python 3 (ipykernel)",
   "language": "python",
   "name": "python3"
  },
  "language_info": {
   "codemirror_mode": {
    "name": "ipython",
    "version": 3
   },
   "file_extension": ".py",
   "mimetype": "text/x-python",
   "name": "python",
   "nbconvert_exporter": "python",
   "pygments_lexer": "ipython3",
   "version": "3.10.9"
  }
 },
 "nbformat": 4,
 "nbformat_minor": 5
}
