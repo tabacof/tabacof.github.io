{
 "cells": [
  {
   "cell_type": "code",
   "execution_count": 1,
   "id": "f288e2b0-252f-4fe5-af8d-164d33f6eb6c",
   "metadata": {
    "execution": {
     "iopub.execute_input": "2023-03-20T12:35:51.048982Z",
     "iopub.status.busy": "2023-03-20T12:35:51.048691Z",
     "iopub.status.idle": "2023-03-20T12:35:51.108151Z",
     "shell.execute_reply": "2023-03-20T12:35:51.107299Z",
     "shell.execute_reply.started": "2023-03-20T12:35:51.048952Z"
    },
    "tags": []
   },
   "outputs": [],
   "source": [
    "from PIL import Image\n"
   ]
  },
  {
   "cell_type": "code",
   "execution_count": 17,
   "id": "b40e4135-7407-4864-a8ae-4a6fc76bc3d0",
   "metadata": {
    "execution": {
     "iopub.execute_input": "2023-03-20T12:39:27.558831Z",
     "iopub.status.busy": "2023-03-20T12:39:27.558539Z",
     "iopub.status.idle": "2023-03-20T12:39:29.393377Z",
     "shell.execute_reply": "2023-03-20T12:39:29.392703Z",
     "shell.execute_reply.started": "2023-03-20T12:39:27.558805Z"
    },
    "tags": []
   },
   "outputs": [],
   "source": [
    "for i in range(11):\n",
    "    im = Image.open(f\"bias{i}.png\")\n",
    "\n",
    "    width, height = im.size\n",
    "\n",
    "    # Setting the points for cropped image\n",
    "    left = 600\n",
    "    top = 500\n",
    "    right = 2450\n",
    "    bottom = 1750\n",
    "\n",
    "    # Cropped image of above dimension\n",
    "    # (It will not change original image)\n",
    "    im1 = im.crop((left, top, right, bottom))\n",
    "\n",
    "    im1.save(f\"bias{i}_cropped.png\")"
   ]
  },
  {
   "cell_type": "code",
   "execution_count": null,
   "id": "ffb8ec9a-613a-4aaa-80d9-10a0808a2120",
   "metadata": {},
   "outputs": [],
   "source": []
  }
 ],
 "metadata": {
  "kernelspec": {
   "display_name": "Python 3",
   "language": "python",
   "name": "python3"
  },
  "language_info": {
   "codemirror_mode": {
    "name": "ipython",
    "version": 3
   },
   "file_extension": ".py",
   "mimetype": "text/x-python",
   "name": "python",
   "nbconvert_exporter": "python",
   "pygments_lexer": "ipython3",
   "version": "3.8.5"
  }
 },
 "nbformat": 4,
 "nbformat_minor": 5
}
